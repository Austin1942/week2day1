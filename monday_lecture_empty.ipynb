{
 "cells": [
  {
   "cell_type": "markdown",
   "metadata": {},
   "source": [
    "# Week 2 - Monday Lesson (variable assignment, loops, lists)"
   ]
  },
  {
   "cell_type": "markdown",
   "metadata": {},
   "source": [
    "## Tasks Today:\n",
    "\n",
    "1) Int & Float assignments <br>\n",
    " &nbsp;&nbsp;&nbsp;&nbsp; a) Assigning int <br>\n",
    " &nbsp;&nbsp;&nbsp;&nbsp; b) Assigning float <br>\n",
    " &nbsp;&nbsp;&nbsp;&nbsp; c) Performing Calculations on ints and floats <br>\n",
    " &nbsp;&nbsp;&nbsp;&nbsp;&nbsp;&nbsp;&nbsp;&nbsp; - Addition <br>\n",
    " &nbsp;&nbsp;&nbsp;&nbsp;&nbsp;&nbsp;&nbsp;&nbsp; - Subtraction <br>\n",
    " &nbsp;&nbsp;&nbsp;&nbsp;&nbsp;&nbsp;&nbsp;&nbsp; - Multiplication <br>\n",
    " &nbsp;&nbsp;&nbsp;&nbsp;&nbsp;&nbsp;&nbsp;&nbsp; - Division <br>\n",
    " &nbsp;&nbsp;&nbsp;&nbsp;&nbsp;&nbsp;&nbsp;&nbsp; - Floor Division <br>\n",
    " &nbsp;&nbsp;&nbsp;&nbsp;&nbsp;&nbsp;&nbsp;&nbsp; - Modulo <br>\n",
    " &nbsp;&nbsp;&nbsp;&nbsp;&nbsp;&nbsp;&nbsp;&nbsp; - Exponential <br>\n",
    "2) String Input-Output <br>\n",
    " &nbsp;&nbsp;&nbsp;&nbsp; a) String Assignment <br>\n",
    " &nbsp;&nbsp;&nbsp;&nbsp; b) print() <br>\n",
    " &nbsp;&nbsp;&nbsp;&nbsp; c) String Concatenation <br>\n",
    " &nbsp;&nbsp;&nbsp;&nbsp; d) Type Conversion <br>\n",
    " &nbsp;&nbsp;&nbsp;&nbsp; e) input() <br>\n",
    " &nbsp;&nbsp;&nbsp;&nbsp; f) format() <br>\n",
    " &nbsp;&nbsp;&nbsp;&nbsp; g) Old Way (python 2) <br>\n",
    "3) <b>In-Class Exercise #1</b> <br>\n",
    "4) If Statements <br>\n",
    " &nbsp;&nbsp;&nbsp;&nbsp; a) 'is' keyword <br>\n",
    " &nbsp;&nbsp;&nbsp;&nbsp; b) 'in' keyword <br>\n",
    " &nbsp;&nbsp;&nbsp;&nbsp; c) 'not in' keyword <br>\n",
    "5) <b>In-Class Exercise #2</b> <br>\n",
    "6) Elif Statements <br>\n",
    "7) Else Statements <br>\n",
    "8) <b>In-Class Exercise #3</b> <br>\n",
    "9) For Loops <br>\n",
    " &nbsp;&nbsp;&nbsp;&nbsp; a) Using 'in' keyword <br>\n",
    " &nbsp;&nbsp;&nbsp;&nbsp; b) Continue Statement <br>\n",
    " &nbsp;&nbsp;&nbsp;&nbsp; c) Break Statement <br>\n",
    " &nbsp;&nbsp;&nbsp;&nbsp; d) Pass Statement <br>\n",
    " &nbsp;&nbsp;&nbsp;&nbsp; e) Double For Loops <br>\n",
    "10) While Loops <br>\n",
    " &nbsp;&nbsp;&nbsp;&nbsp; a) Looping 'While True' <br>\n",
    " &nbsp;&nbsp;&nbsp;&nbsp; b) While and For Loops Used Together <br>\n",
    "11) Built-In Functions <br>\n",
    " &nbsp;&nbsp;&nbsp;&nbsp; a) range() <br>\n",
    " &nbsp;&nbsp;&nbsp;&nbsp; b) len() <br>\n",
    " &nbsp;&nbsp;&nbsp;&nbsp; c) help() <br>\n",
    " &nbsp;&nbsp;&nbsp;&nbsp; d) isinstance() <br>\n",
    " &nbsp;&nbsp;&nbsp;&nbsp; e) abs() <br>\n",
    "12) Try and Except <br>\n",
    "13) Lists <br>\n",
    " &nbsp;&nbsp;&nbsp;&nbsp; a) Declaring Lists <br>\n",
    " &nbsp;&nbsp;&nbsp;&nbsp; b) Indexing a List <br>\n",
    " &nbsp;&nbsp;&nbsp;&nbsp; c) .append() <br>\n",
    " &nbsp;&nbsp;&nbsp;&nbsp; d) .insert() <br>\n",
    " &nbsp;&nbsp;&nbsp;&nbsp; e) .pop() <br>\n",
    " &nbsp;&nbsp;&nbsp;&nbsp; f) .remove() <br>\n",
    " &nbsp;&nbsp;&nbsp;&nbsp; g) del() <br>\n",
    " &nbsp;&nbsp;&nbsp;&nbsp; h) Concatenating Two Lists <br>\n",
    " &nbsp;&nbsp;&nbsp;&nbsp; i) Lists Within Lists <br>\n",
    " &nbsp;&nbsp;&nbsp;&nbsp; j) Looping Through Lists <br>"
   ]
  },
  {
   "cell_type": "code",
   "execution_count": 1,
   "metadata": {},
   "outputs": [
    {
     "name": "stdout",
     "output_type": "stream",
     "text": [
      "hello\n"
     ]
    }
   ],
   "source": [
    "print(\"hello\")"
   ]
  },
  {
   "cell_type": "markdown",
   "metadata": {},
   "source": [
    "### Int & Float Assignments"
   ]
  },
  {
   "cell_type": "code",
   "execution_count": null,
   "metadata": {},
   "outputs": [],
   "source": []
  },
  {
   "cell_type": "markdown",
   "metadata": {},
   "source": [
    "##### Assigning int"
   ]
  },
  {
   "cell_type": "code",
   "execution_count": 3,
   "metadata": {},
   "outputs": [
    {
     "name": "stdout",
     "output_type": "stream",
     "text": [
      "6\n"
     ]
    }
   ],
   "source": [
    "number = 6\n",
    "print(number)"
   ]
  },
  {
   "cell_type": "markdown",
   "metadata": {},
   "source": [
    "##### Assinging float"
   ]
  },
  {
   "cell_type": "code",
   "execution_count": 4,
   "metadata": {},
   "outputs": [
    {
     "name": "stdout",
     "output_type": "stream",
     "text": [
      "2.3\n"
     ]
    }
   ],
   "source": [
    "my_float = 2.3\n",
    "print(my_float)"
   ]
  },
  {
   "cell_type": "markdown",
   "metadata": {},
   "source": [
    "#### Performing Calculations on ints and floats"
   ]
  },
  {
   "cell_type": "markdown",
   "metadata": {},
   "source": [
    "##### Addition"
   ]
  },
  {
   "cell_type": "code",
   "execution_count": 5,
   "metadata": {},
   "outputs": [
    {
     "name": "stdout",
     "output_type": "stream",
     "text": [
      "7.7\n"
     ]
    }
   ],
   "source": [
    "num1 = 2\n",
    "num2 = 5.7\n",
    "result = num1 + num2\n",
    "print(result)\n"
   ]
  },
  {
   "cell_type": "markdown",
   "metadata": {},
   "source": [
    "##### Subtraction"
   ]
  },
  {
   "cell_type": "code",
   "execution_count": 6,
   "metadata": {},
   "outputs": [
    {
     "name": "stdout",
     "output_type": "stream",
     "text": [
      "3.7\n"
     ]
    }
   ],
   "source": [
    "result_diff = num2 - num1\n",
    "print(result_diff)"
   ]
  },
  {
   "cell_type": "markdown",
   "metadata": {},
   "source": [
    "##### Multiplication"
   ]
  },
  {
   "cell_type": "code",
   "execution_count": 7,
   "metadata": {},
   "outputs": [
    {
     "name": "stdout",
     "output_type": "stream",
     "text": [
      "30\n"
     ]
    }
   ],
   "source": [
    "num3 = 3\n",
    "num4 =10\n",
    "result = num3 *num4\n",
    "print(result)"
   ]
  },
  {
   "cell_type": "markdown",
   "metadata": {},
   "source": [
    "##### Division"
   ]
  },
  {
   "cell_type": "code",
   "execution_count": 8,
   "metadata": {},
   "outputs": [
    {
     "name": "stdout",
     "output_type": "stream",
     "text": [
      "2.0\n"
     ]
    }
   ],
   "source": [
    "result_div = 4/2\n",
    "print(result_div)"
   ]
  },
  {
   "cell_type": "markdown",
   "metadata": {},
   "source": [
    "##### Floor Division"
   ]
  },
  {
   "cell_type": "code",
   "execution_count": 9,
   "metadata": {
    "scrolled": true
   },
   "outputs": [
    {
     "name": "stdout",
     "output_type": "stream",
     "text": [
      "2\n"
     ]
    }
   ],
   "source": [
    "#always rounds down#\n",
    "result_floor = 5 // 2\n",
    "print(result_floor)"
   ]
  },
  {
   "cell_type": "markdown",
   "metadata": {},
   "source": [
    "##### Modulo"
   ]
  },
  {
   "cell_type": "code",
   "execution_count": 14,
   "metadata": {},
   "outputs": [
    {
     "name": "stdout",
     "output_type": "stream",
     "text": [
      "1\n",
      "even\n"
     ]
    }
   ],
   "source": [
    "val_mod = 5 % 2\n",
    "print(val_mod)\n",
    "\n",
    "num6 = 6\n",
    "if num6 % 2 == 0:\n",
    "    print(\"even\")\n",
    "else:\n",
    "    print(\"odd\")"
   ]
  },
  {
   "cell_type": "markdown",
   "metadata": {},
   "source": [
    "##### Exponential"
   ]
  },
  {
   "cell_type": "code",
   "execution_count": 32,
   "metadata": {},
   "outputs": [
    {
     "name": "stdout",
     "output_type": "stream",
     "text": [
      "25\n"
     ]
    }
   ],
   "source": []
  },
  {
   "cell_type": "markdown",
   "metadata": {},
   "source": [
    "### String Input-Output"
   ]
  },
  {
   "cell_type": "markdown",
   "metadata": {},
   "source": [
    "##### String Assignment"
   ]
  },
  {
   "cell_type": "code",
   "execution_count": 16,
   "metadata": {},
   "outputs": [
    {
     "name": "stdout",
     "output_type": "stream",
     "text": [
      "he said \"austin's\" name\n"
     ]
    }
   ],
   "source": [
    "name = \"austin's\"\n",
    "name = 'austin'\n",
    "name = 'he said \"austin\\'s\" name'\n",
    "print(name)"
   ]
  },
  {
   "cell_type": "markdown",
   "metadata": {},
   "source": [
    "##### print() <br>\n",
    "<p>Don't forget about end=' '</p>"
   ]
  },
  {
   "cell_type": "code",
   "execution_count": 23,
   "metadata": {},
   "outputs": [
    {
     "name": "stdout",
     "output_type": "stream",
     "text": [
      "this is my name: austin \n",
      "thanks\n",
      "nospaces"
     ]
    }
   ],
   "source": [
    "name = \"austin\"\n",
    "print(\"this is my name:\",name,\"\\nthanks\")\n",
    "print(\"nospaces\", end=\"\")"
   ]
  },
  {
   "cell_type": "markdown",
   "metadata": {},
   "source": [
    "##### String Concatenation"
   ]
  },
  {
   "cell_type": "code",
   "execution_count": 28,
   "metadata": {},
   "outputs": [
    {
     "name": "stdout",
     "output_type": "stream",
     "text": [
      "mark gerlach\n"
     ]
    }
   ],
   "source": [
    "first = \"mark\"\n",
    "last = \"gerlach\"\n",
    "full_name = first + \" \" + last\n",
    "print(full_name)"
   ]
  },
  {
   "cell_type": "markdown",
   "metadata": {},
   "source": [
    "##### Type Conversion"
   ]
  },
  {
   "cell_type": "code",
   "execution_count": 33,
   "metadata": {},
   "outputs": [
    {
     "name": "stdout",
     "output_type": "stream",
     "text": [
      "<class 'str'>\n",
      "32\n",
      "<class 'int'>\n"
     ]
    },
    {
     "ename": "TypeError",
     "evalue": "int() can't convert non-string with explicit base",
     "output_type": "error",
     "traceback": [
      "\u001b[1;31m---------------------------------------------------------------------------\u001b[0m",
      "\u001b[1;31mTypeError\u001b[0m                                 Traceback (most recent call last)",
      "\u001b[1;32m<ipython-input-33-037360d28246>\u001b[0m in \u001b[0;36m<module>\u001b[1;34m\u001b[0m\n\u001b[0;32m     10\u001b[0m \u001b[0mnum1\u001b[0m \u001b[1;33m+\u001b[0m \u001b[0mstr\u001b[0m\u001b[1;33m(\u001b[0m\u001b[0mnum2\u001b[0m\u001b[1;33m)\u001b[0m\u001b[1;33m\u001b[0m\u001b[1;33m\u001b[0m\u001b[0m\n\u001b[0;32m     11\u001b[0m \u001b[1;31m# dict(), List(), Tuple(), float(), int(), str(), set()#\u001b[0m\u001b[1;33m\u001b[0m\u001b[1;33m\u001b[0m\u001b[1;33m\u001b[0m\u001b[0m\n\u001b[1;32m---> 12\u001b[1;33m \u001b[0mint\u001b[0m\u001b[1;33m(\u001b[0m\u001b[1;36m2\u001b[0m\u001b[1;33m,\u001b[0m \u001b[1;36m16\u001b[0m\u001b[1;33m)\u001b[0m\u001b[1;33m\u001b[0m\u001b[1;33m\u001b[0m\u001b[0m\n\u001b[0m",
      "\u001b[1;31mTypeError\u001b[0m: int() can't convert non-string with explicit base"
     ]
    }
   ],
   "source": [
    "num = \"32\"\n",
    "print(type(num))\n",
    "change_type = int(num)\n",
    "print(change_type)\n",
    "print(type(change_type))\n",
    "#cant add int and str#\n",
    "num1 = \"4\"\n",
    "num2 = 6\n",
    "int(num1) + num2\n",
    "num1 + str(num2)\n",
    "# dict(), List(), Tuple(), float(), int(), str(), set()#"
   ]
  },
  {
   "cell_type": "markdown",
   "metadata": {},
   "source": [
    "##### input()"
   ]
  },
  {
   "cell_type": "code",
   "execution_count": 37,
   "metadata": {},
   "outputs": [
    {
     "name": "stdout",
     "output_type": "stream",
     "text": [
      "what is your age? 31\n",
      "<class 'str'>\n",
      "your age is 31\n"
     ]
    }
   ],
   "source": [
    "#input converts to string#\n",
    "age = input(\"what is your age? \")\n",
    "print(type(age))\n",
    "print(\"your age is\", age)"
   ]
  },
  {
   "cell_type": "markdown",
   "metadata": {},
   "source": [
    "##### format()"
   ]
  },
  {
   "cell_type": "code",
   "execution_count": 40,
   "metadata": {},
   "outputs": [
    {
     "name": "stdout",
     "output_type": "stream",
     "text": [
      "what is you age 31\n",
      "you are 31 years old and you are getting wiser!\n"
     ]
    }
   ],
   "source": [
    "age = input(\"what is you age \")\n",
    "result_string = 'you are {} years old and you are getting wiser!'.format(age)\n",
    "print(result_string)\n",
    "\n",
    "#f-string#\n",
    "result_string = f'you are {age} years old and you are getting wiser1'\n"
   ]
  },
  {
   "cell_type": "markdown",
   "metadata": {},
   "source": [
    "##### Old Way (python 2)"
   ]
  },
  {
   "cell_type": "code",
   "execution_count": 41,
   "metadata": {},
   "outputs": [
    {
     "name": "stdout",
     "output_type": "stream",
     "text": [
      "you are 31 and look great!\n"
     ]
    }
   ],
   "source": [
    "result_str = 'you are %s and look great!' %age\n",
    "print(result_str)"
   ]
  },
  {
   "cell_type": "markdown",
   "metadata": {},
   "source": [
    "# In-Class Exercise 1 <br>\n",
    "<p>Create a format statement that asks for color, year, make, model and prints out the results</p>"
   ]
  },
  {
   "cell_type": "code",
   "execution_count": 50,
   "metadata": {},
   "outputs": [
    {
     "name": "stdout",
     "output_type": "stream",
     "text": [
      "what color is you car? sil\n",
      "what is the make? boi\n",
      "what is the model? tance\n",
      "what is the year? butt\n",
      "You drive a butt sil boi tance. NOICE\n"
     ]
    }
   ],
   "source": [
    "color = input('what color is you car? ')\n",
    "make = input('what is the make? ')\n",
    "model = input('what is the model? ')\n",
    "year = input('what is the year? ')\n",
    "print( f'You drive a {year} {color} {make} {model}. NOICE')"
   ]
  },
  {
   "cell_type": "markdown",
   "metadata": {},
   "source": [
    "### If Statements"
   ]
  },
  {
   "cell_type": "code",
   "execution_count": 53,
   "metadata": {},
   "outputs": [
    {
     "name": "stdout",
     "output_type": "stream",
     "text": [
      "not equal\n",
      "num1 is less\n",
      "nothing\n"
     ]
    }
   ],
   "source": [
    "# true / false\n",
    "# boolean evaluates to True or False\n",
    "# greater than >\n",
    "# less than <\n",
    "# equals ==\n",
    "# greater or equals >=\n",
    "# less than or equal <=\n",
    "# not equals !=\n",
    "\n",
    "num1 = 5\n",
    "num2 = 10\n",
    "if num1 ==num2:\n",
    "    #code block\n",
    "    print(\"equal\")\n",
    "else:\n",
    "    print(\"not equal\")\n",
    "    \n",
    "if num1 > num2:\n",
    "    print(\"num1 is greater\")\n",
    "elif num1 < num2:\n",
    "    print(\"num1 is less\")\n",
    "else:\n",
    "    print(\"are equal\")\n",
    "          \n",
    "# and & or\n",
    "\n",
    "#if True and False\n",
    "#both sides of the and must return True to be True\n",
    "if num1 == 5 and num2 > 12:\n",
    "    print(\"True\")\n",
    "else:\n",
    "    print(\"False\")\n",
    "\n",
    "# True or False--> true\n",
    "if num1 == 5 or num2 >12:\n",
    "    print(\"True\")\n",
    "else:\n",
    "    print(\"False\")\n",
    "\n",
    "    \n",
    "# inline if stats\n",
    "name ='john'\n",
    "\n",
    "my_num = 5 if name ==\"steve\" else 0\n",
    "print(my_num)"
   ]
  },
  {
   "cell_type": "markdown",
   "metadata": {},
   "source": [
    "##### 'is' keyword"
   ]
  },
  {
   "cell_type": "code",
   "execution_count": 57,
   "metadata": {
    "scrolled": true
   },
   "outputs": [
    {
     "name": "stdout",
     "output_type": "stream",
     "text": [
      "y is none\n"
     ]
    },
    {
     "data": {
      "text/plain": [
       "NoneType"
      ]
     },
     "execution_count": 57,
     "metadata": {},
     "output_type": "execute_result"
    }
   ],
   "source": [
    "#check if they are smae object generally do not use\n",
    "# avoid IS inless it totally nessary\n",
    "\n",
    "y = None\n",
    "if y is None:\n",
    "    print(\"y is none\")\n",
    "    \n",
    "type(y)"
   ]
  },
  {
   "cell_type": "markdown",
   "metadata": {},
   "source": [
    "##### 'in' keyword"
   ]
  },
  {
   "cell_type": "code",
   "execution_count": 61,
   "metadata": {},
   "outputs": [
    {
     "name": "stdout",
     "output_type": "stream",
     "text": [
      "you is dead D E D!\n"
     ]
    },
    {
     "ename": "SyntaxError",
     "evalue": "'return' outside function (<ipython-input-61-33116580ce7c>, line 9)",
     "output_type": "error",
     "traceback": [
      "\u001b[1;36m  File \u001b[1;32m\"<ipython-input-61-33116580ce7c>\"\u001b[1;36m, line \u001b[1;32m9\u001b[0m\n\u001b[1;33m    return True\u001b[0m\n\u001b[1;37m    ^\u001b[0m\n\u001b[1;31mSyntaxError\u001b[0m\u001b[1;31m:\u001b[0m 'return' outside function\n"
     ]
    }
   ],
   "source": [
    "# check if a character is in a name\n",
    "#under the hood useing in with list or a string is actually looping\n",
    "\n",
    "char_name = \"max payne\"\n",
    "if \"max\" in char_name:\n",
    "    print(\"you is dead D E D!\")\n"
   ]
  },
  {
   "cell_type": "markdown",
   "metadata": {},
   "source": [
    "##### 'not in' keyword'"
   ]
  },
  {
   "cell_type": "code",
   "execution_count": 65,
   "metadata": {},
   "outputs": [],
   "source": [
    "sega_char = \"Sonic\"\n",
    "if 's' not in sega_char.lower():\n",
    "    print(\"you lying dawg\")\n",
    "    "
   ]
  },
  {
   "cell_type": "markdown",
   "metadata": {},
   "source": [
    "# In-Class Exercise 2 <br>\n",
    "<p>Ask user for input, check to see if the letter 'p' is in the input</p>"
   ]
  },
  {
   "cell_type": "code",
   "execution_count": 70,
   "metadata": {},
   "outputs": [
    {
     "name": "stdout",
     "output_type": "stream",
     "text": [
      "What is your name? Sam\n",
      "Hello! Sam\n"
     ]
    }
   ],
   "source": [
    "name = input(\"What is your name? \")\n",
    "if 'p' in name.lower():\n",
    "    print('Your name is',name, '?')\n",
    "else:\n",
    "    print('Hello!',name,)"
   ]
  },
  {
   "cell_type": "markdown",
   "metadata": {},
   "source": [
    "# Using 'and'/'or' with If Statements"
   ]
  },
  {
   "cell_type": "code",
   "execution_count": null,
   "metadata": {},
   "outputs": [],
   "source": []
  },
  {
   "cell_type": "markdown",
   "metadata": {},
   "source": [
    "### Elif Statements"
   ]
  },
  {
   "cell_type": "code",
   "execution_count": null,
   "metadata": {},
   "outputs": [],
   "source": []
  },
  {
   "cell_type": "markdown",
   "metadata": {},
   "source": [
    "### Else Statements"
   ]
  },
  {
   "cell_type": "code",
   "execution_count": null,
   "metadata": {},
   "outputs": [],
   "source": []
  },
  {
   "cell_type": "markdown",
   "metadata": {},
   "source": [
    "### For Loops"
   ]
  },
  {
   "cell_type": "code",
   "execution_count": 71,
   "metadata": {},
   "outputs": [
    {
     "data": {
      "text/plain": [
       "[0, 1, 2, 3, 4, 5, 6, 7, 8, 9]"
      ]
     },
     "execution_count": 71,
     "metadata": {},
     "output_type": "execute_result"
    }
   ],
   "source": [
    "list(range(10))"
   ]
  },
  {
   "cell_type": "code",
   "execution_count": 73,
   "metadata": {},
   "outputs": [
    {
     "name": "stdout",
     "output_type": "stream",
     "text": [
      "0\n",
      "1\n",
      "2\n",
      "3\n",
      "4\n",
      "5\n",
      "6\n",
      "7\n",
      "8\n",
      "9\n",
      "C\n",
      "h\n",
      "r\n",
      "i\n",
      "s\n"
     ]
    }
   ],
   "source": [
    "# for [placeholder] in [iterable]:\n",
    "for i in range(10):\n",
    "    print(i)\n",
    "\n",
    "name = \"Chris\"\n",
    "for letter in name:\n",
    "    print(letter)"
   ]
  },
  {
   "cell_type": "code",
   "execution_count": 83,
   "metadata": {},
   "outputs": [
    {
     "name": "stdout",
     "output_type": "stream",
     "text": [
      "Pizza\n",
      "Tacos\n",
      "Dimsum\n",
      "Sushi\n",
      "0\n",
      "pizza\n",
      "1\n",
      "tacos\n",
      "2\n",
      "dimsum\n",
      "3\n",
      "sushi\n",
      "the food at index 0 is pizza\n",
      "the food at index 1 is tacos\n",
      "the food at index 2 is dimsum\n",
      "the food at index 3 is sushi\n"
     ]
    }
   ],
   "source": [
    "foods = [\"pizza\", \"tacos\", \"dimsum\", \"sushi\"]\n",
    "for food in foods:\n",
    "    print(food.title())\n",
    "    \n",
    "list(range(len(foods)))\n",
    "for index in range(len(foods)):\n",
    "    print(index)\n",
    "    print(foods[index])\n",
    "# proper access to index is use enumerate\n",
    "for index, food in enumerate(foods):\n",
    "    print(f\"the food at index {index} is {food}\")"
   ]
  },
  {
   "cell_type": "markdown",
   "metadata": {},
   "source": [
    "##### Using 'in' keyword"
   ]
  },
  {
   "cell_type": "code",
   "execution_count": null,
   "metadata": {},
   "outputs": [],
   "source": [
    "#explained"
   ]
  },
  {
   "cell_type": "markdown",
   "metadata": {},
   "source": [
    "##### Continue Statement"
   ]
  },
  {
   "cell_type": "code",
   "execution_count": 84,
   "metadata": {},
   "outputs": [
    {
     "name": "stdout",
     "output_type": "stream",
     "text": [
      "0\n",
      "1\n",
      "2\n",
      "3\n",
      "4\n",
      "6\n",
      "7\n",
      "8\n",
      "9\n"
     ]
    }
   ],
   "source": [
    "# continued the next interation...\n",
    "\n",
    "for i in range(10):\n",
    "    if i==5:\n",
    "        continue\n",
    "    print(i)"
   ]
  },
  {
   "cell_type": "markdown",
   "metadata": {},
   "source": [
    "##### Break Statement"
   ]
  },
  {
   "cell_type": "code",
   "execution_count": 85,
   "metadata": {},
   "outputs": [
    {
     "name": "stdout",
     "output_type": "stream",
     "text": [
      "0\n",
      "1\n",
      "2\n",
      "3\n",
      "4\n"
     ]
    }
   ],
   "source": [
    "for i in range(10):\n",
    "    if i==5:\n",
    "        break\n",
    "    print(i)"
   ]
  },
  {
   "cell_type": "markdown",
   "metadata": {},
   "source": [
    "##### Pass Statement"
   ]
  },
  {
   "cell_type": "code",
   "execution_count": 86,
   "metadata": {},
   "outputs": [
    {
     "name": "stdout",
     "output_type": "stream",
     "text": [
      "hlleo\n"
     ]
    }
   ],
   "source": [
    "for x in [1,2,3,4,5]:\n",
    "    pass\n",
    "print(\"hlleo\")"
   ]
  },
  {
   "cell_type": "code",
   "execution_count": 88,
   "metadata": {},
   "outputs": [],
   "source": []
  },
  {
   "cell_type": "markdown",
   "metadata": {},
   "source": [
    "##### Double For Loops"
   ]
  },
  {
   "cell_type": "code",
   "execution_count": 89,
   "metadata": {},
   "outputs": [
    {
     "name": "stdout",
     "output_type": "stream",
     "text": [
      "i=0, j=0\n",
      "i=0, j=1\n",
      "i=0, j=2\n",
      "i=0, j=3\n",
      "i=0, j=4\n",
      "i=0, j=5\n",
      "i=0, j=6\n",
      "i=0, j=7\n",
      "i=0, j=8\n",
      "i=0, j=9\n",
      "i=0, j=10\n",
      "i=0, j=11\n",
      "i=0, j=12\n",
      "i=0, j=13\n",
      "i=0, j=14\n",
      "i=0, j=15\n",
      "i=0, j=16\n",
      "i=0, j=17\n",
      "i=0, j=18\n",
      "i=0, j=19\n",
      "i=0, j=20\n",
      "i=0, j=21\n",
      "i=0, j=22\n",
      "i=0, j=23\n",
      "i=0, j=24\n",
      "i=0, j=25\n",
      "i=0, j=26\n",
      "i=0, j=27\n",
      "i=0, j=28\n",
      "i=0, j=29\n",
      "i=1, j=0\n",
      "i=1, j=1\n",
      "i=1, j=2\n",
      "i=1, j=3\n",
      "i=1, j=4\n",
      "i=1, j=5\n",
      "i=1, j=6\n",
      "i=1, j=7\n",
      "i=1, j=8\n",
      "i=1, j=9\n",
      "i=1, j=10\n",
      "i=1, j=11\n",
      "i=1, j=12\n",
      "i=1, j=13\n",
      "i=1, j=14\n",
      "i=1, j=15\n",
      "i=1, j=16\n",
      "i=1, j=17\n",
      "i=1, j=18\n",
      "i=1, j=19\n",
      "i=1, j=20\n",
      "i=1, j=21\n",
      "i=1, j=22\n",
      "i=1, j=23\n",
      "i=1, j=24\n",
      "i=1, j=25\n",
      "i=1, j=26\n",
      "i=1, j=27\n",
      "i=1, j=28\n",
      "i=1, j=29\n",
      "i=2, j=0\n",
      "i=2, j=1\n",
      "i=2, j=2\n",
      "i=2, j=3\n",
      "i=2, j=4\n",
      "i=2, j=5\n",
      "i=2, j=6\n",
      "i=2, j=7\n",
      "i=2, j=8\n",
      "i=2, j=9\n",
      "i=2, j=10\n",
      "i=2, j=11\n",
      "i=2, j=12\n",
      "i=2, j=13\n",
      "i=2, j=14\n",
      "i=2, j=15\n",
      "i=2, j=16\n",
      "i=2, j=17\n",
      "i=2, j=18\n",
      "i=2, j=19\n",
      "i=2, j=20\n",
      "i=2, j=21\n",
      "i=2, j=22\n",
      "i=2, j=23\n",
      "i=2, j=24\n",
      "i=2, j=25\n",
      "i=2, j=26\n",
      "i=2, j=27\n",
      "i=2, j=28\n",
      "i=2, j=29\n",
      "i=3, j=0\n",
      "i=3, j=1\n",
      "i=3, j=2\n",
      "i=3, j=3\n",
      "i=3, j=4\n",
      "i=3, j=5\n",
      "i=3, j=6\n",
      "i=3, j=7\n",
      "i=3, j=8\n",
      "i=3, j=9\n",
      "i=3, j=10\n",
      "i=3, j=11\n",
      "i=3, j=12\n",
      "i=3, j=13\n",
      "i=3, j=14\n",
      "i=3, j=15\n",
      "i=3, j=16\n",
      "i=3, j=17\n",
      "i=3, j=18\n",
      "i=3, j=19\n",
      "i=3, j=20\n",
      "i=3, j=21\n",
      "i=3, j=22\n",
      "i=3, j=23\n",
      "i=3, j=24\n",
      "i=3, j=25\n",
      "i=3, j=26\n",
      "i=3, j=27\n",
      "i=3, j=28\n",
      "i=3, j=29\n",
      "i=4, j=0\n",
      "i=4, j=1\n",
      "i=4, j=2\n",
      "i=4, j=3\n",
      "i=4, j=4\n",
      "i=4, j=5\n",
      "i=4, j=6\n",
      "i=4, j=7\n",
      "i=4, j=8\n",
      "i=4, j=9\n",
      "i=4, j=10\n",
      "i=4, j=11\n",
      "i=4, j=12\n",
      "i=4, j=13\n",
      "i=4, j=14\n",
      "i=4, j=15\n",
      "i=4, j=16\n",
      "i=4, j=17\n",
      "i=4, j=18\n",
      "i=4, j=19\n",
      "i=4, j=20\n",
      "i=4, j=21\n",
      "i=4, j=22\n",
      "i=4, j=23\n",
      "i=4, j=24\n",
      "i=4, j=25\n",
      "i=4, j=26\n",
      "i=4, j=27\n",
      "i=4, j=28\n",
      "i=4, j=29\n",
      "i=5, j=0\n",
      "i=5, j=1\n",
      "i=5, j=2\n",
      "i=5, j=3\n",
      "i=5, j=4\n",
      "i=5, j=5\n",
      "i=5, j=6\n",
      "i=5, j=7\n",
      "i=5, j=8\n",
      "i=5, j=9\n",
      "i=5, j=10\n",
      "i=5, j=11\n",
      "i=5, j=12\n",
      "i=5, j=13\n",
      "i=5, j=14\n",
      "i=5, j=15\n",
      "i=5, j=16\n",
      "i=5, j=17\n",
      "i=5, j=18\n",
      "i=5, j=19\n",
      "i=5, j=20\n",
      "i=5, j=21\n",
      "i=5, j=22\n",
      "i=5, j=23\n",
      "i=5, j=24\n",
      "i=5, j=25\n",
      "i=5, j=26\n",
      "i=5, j=27\n",
      "i=5, j=28\n",
      "i=5, j=29\n",
      "i=6, j=0\n",
      "i=6, j=1\n",
      "i=6, j=2\n",
      "i=6, j=3\n",
      "i=6, j=4\n",
      "i=6, j=5\n",
      "i=6, j=6\n",
      "i=6, j=7\n",
      "i=6, j=8\n",
      "i=6, j=9\n",
      "i=6, j=10\n",
      "i=6, j=11\n",
      "i=6, j=12\n",
      "i=6, j=13\n",
      "i=6, j=14\n",
      "i=6, j=15\n",
      "i=6, j=16\n",
      "i=6, j=17\n",
      "i=6, j=18\n",
      "i=6, j=19\n",
      "i=6, j=20\n",
      "i=6, j=21\n",
      "i=6, j=22\n",
      "i=6, j=23\n",
      "i=6, j=24\n",
      "i=6, j=25\n",
      "i=6, j=26\n",
      "i=6, j=27\n",
      "i=6, j=28\n",
      "i=6, j=29\n",
      "i=7, j=0\n",
      "i=7, j=1\n",
      "i=7, j=2\n",
      "i=7, j=3\n",
      "i=7, j=4\n",
      "i=7, j=5\n",
      "i=7, j=6\n",
      "i=7, j=7\n",
      "i=7, j=8\n",
      "i=7, j=9\n",
      "i=7, j=10\n",
      "i=7, j=11\n",
      "i=7, j=12\n",
      "i=7, j=13\n",
      "i=7, j=14\n",
      "i=7, j=15\n",
      "i=7, j=16\n",
      "i=7, j=17\n",
      "i=7, j=18\n",
      "i=7, j=19\n",
      "i=7, j=20\n",
      "i=7, j=21\n",
      "i=7, j=22\n",
      "i=7, j=23\n",
      "i=7, j=24\n",
      "i=7, j=25\n",
      "i=7, j=26\n",
      "i=7, j=27\n",
      "i=7, j=28\n",
      "i=7, j=29\n",
      "i=8, j=0\n",
      "i=8, j=1\n",
      "i=8, j=2\n",
      "i=8, j=3\n",
      "i=8, j=4\n",
      "i=8, j=5\n",
      "i=8, j=6\n",
      "i=8, j=7\n",
      "i=8, j=8\n",
      "i=8, j=9\n",
      "i=8, j=10\n",
      "i=8, j=11\n",
      "i=8, j=12\n",
      "i=8, j=13\n",
      "i=8, j=14\n",
      "i=8, j=15\n",
      "i=8, j=16\n",
      "i=8, j=17\n",
      "i=8, j=18\n",
      "i=8, j=19\n",
      "i=8, j=20\n",
      "i=8, j=21\n",
      "i=8, j=22\n",
      "i=8, j=23\n",
      "i=8, j=24\n",
      "i=8, j=25\n",
      "i=8, j=26\n",
      "i=8, j=27\n",
      "i=8, j=28\n",
      "i=8, j=29\n",
      "i=9, j=0\n",
      "i=9, j=1\n",
      "i=9, j=2\n",
      "i=9, j=3\n",
      "i=9, j=4\n",
      "i=9, j=5\n",
      "i=9, j=6\n",
      "i=9, j=7\n",
      "i=9, j=8\n",
      "i=9, j=9\n",
      "i=9, j=10\n",
      "i=9, j=11\n",
      "i=9, j=12\n",
      "i=9, j=13\n",
      "i=9, j=14\n",
      "i=9, j=15\n",
      "i=9, j=16\n",
      "i=9, j=17\n",
      "i=9, j=18\n",
      "i=9, j=19\n",
      "i=9, j=20\n",
      "i=9, j=21\n",
      "i=9, j=22\n",
      "i=9, j=23\n",
      "i=9, j=24\n",
      "i=9, j=25\n",
      "i=9, j=26\n",
      "i=9, j=27\n",
      "i=9, j=28\n",
      "i=9, j=29\n",
      "i=10, j=0\n",
      "i=10, j=1\n",
      "i=10, j=2\n",
      "i=10, j=3\n",
      "i=10, j=4\n",
      "i=10, j=5\n",
      "i=10, j=6\n",
      "i=10, j=7\n",
      "i=10, j=8\n",
      "i=10, j=9\n",
      "i=10, j=10\n",
      "i=10, j=11\n",
      "i=10, j=12\n",
      "i=10, j=13\n",
      "i=10, j=14\n",
      "i=10, j=15\n",
      "i=10, j=16\n",
      "i=10, j=17\n",
      "i=10, j=18\n",
      "i=10, j=19\n",
      "i=10, j=20\n",
      "i=10, j=21\n",
      "i=10, j=22\n",
      "i=10, j=23\n",
      "i=10, j=24\n",
      "i=10, j=25\n",
      "i=10, j=26\n",
      "i=10, j=27\n",
      "i=10, j=28\n",
      "i=10, j=29\n",
      "i=11, j=0\n",
      "i=11, j=1\n",
      "i=11, j=2\n",
      "i=11, j=3\n",
      "i=11, j=4\n",
      "i=11, j=5\n",
      "i=11, j=6\n",
      "i=11, j=7\n",
      "i=11, j=8\n",
      "i=11, j=9\n",
      "i=11, j=10\n",
      "i=11, j=11\n",
      "i=11, j=12\n",
      "i=11, j=13\n",
      "i=11, j=14\n",
      "i=11, j=15\n",
      "i=11, j=16\n",
      "i=11, j=17\n",
      "i=11, j=18\n",
      "i=11, j=19\n",
      "i=11, j=20\n",
      "i=11, j=21\n",
      "i=11, j=22\n",
      "i=11, j=23\n",
      "i=11, j=24\n",
      "i=11, j=25\n",
      "i=11, j=26\n",
      "i=11, j=27\n",
      "i=11, j=28\n",
      "i=11, j=29\n",
      "i=12, j=0\n",
      "i=12, j=1\n",
      "i=12, j=2\n",
      "i=12, j=3\n",
      "i=12, j=4\n",
      "i=12, j=5\n",
      "i=12, j=6\n",
      "i=12, j=7\n",
      "i=12, j=8\n",
      "i=12, j=9\n",
      "i=12, j=10\n",
      "i=12, j=11\n",
      "i=12, j=12\n",
      "i=12, j=13\n",
      "i=12, j=14\n",
      "i=12, j=15\n",
      "i=12, j=16\n",
      "i=12, j=17\n",
      "i=12, j=18\n",
      "i=12, j=19\n",
      "i=12, j=20\n",
      "i=12, j=21\n",
      "i=12, j=22\n",
      "i=12, j=23\n",
      "i=12, j=24\n",
      "i=12, j=25\n",
      "i=12, j=26\n",
      "i=12, j=27\n",
      "i=12, j=28\n",
      "i=12, j=29\n",
      "i=13, j=0\n",
      "i=13, j=1\n",
      "i=13, j=2\n",
      "i=13, j=3\n",
      "i=13, j=4\n",
      "i=13, j=5\n",
      "i=13, j=6\n",
      "i=13, j=7\n",
      "i=13, j=8\n",
      "i=13, j=9\n",
      "i=13, j=10\n",
      "i=13, j=11\n",
      "i=13, j=12\n",
      "i=13, j=13\n",
      "i=13, j=14\n",
      "i=13, j=15\n",
      "i=13, j=16\n",
      "i=13, j=17\n",
      "i=13, j=18\n",
      "i=13, j=19\n",
      "i=13, j=20\n",
      "i=13, j=21\n",
      "i=13, j=22\n",
      "i=13, j=23\n",
      "i=13, j=24\n",
      "i=13, j=25\n",
      "i=13, j=26\n",
      "i=13, j=27\n",
      "i=13, j=28\n",
      "i=13, j=29\n",
      "i=14, j=0\n",
      "i=14, j=1\n",
      "i=14, j=2\n",
      "i=14, j=3\n",
      "i=14, j=4\n",
      "i=14, j=5\n",
      "i=14, j=6\n",
      "i=14, j=7\n",
      "i=14, j=8\n",
      "i=14, j=9\n",
      "i=14, j=10\n",
      "i=14, j=11\n",
      "i=14, j=12\n",
      "i=14, j=13\n",
      "i=14, j=14\n",
      "i=14, j=15\n",
      "i=14, j=16\n",
      "i=14, j=17\n",
      "i=14, j=18\n",
      "i=14, j=19\n",
      "i=14, j=20\n",
      "i=14, j=21\n",
      "i=14, j=22\n",
      "i=14, j=23\n",
      "i=14, j=24\n",
      "i=14, j=25\n",
      "i=14, j=26\n",
      "i=14, j=27\n",
      "i=14, j=28\n",
      "i=14, j=29\n",
      "i=15, j=0\n",
      "i=15, j=1\n",
      "i=15, j=2\n",
      "i=15, j=3\n",
      "i=15, j=4\n",
      "i=15, j=5\n",
      "i=15, j=6\n",
      "i=15, j=7\n",
      "i=15, j=8\n",
      "i=15, j=9\n",
      "i=15, j=10\n",
      "i=15, j=11\n",
      "i=15, j=12\n",
      "i=15, j=13\n",
      "i=15, j=14\n",
      "i=15, j=15\n",
      "i=15, j=16\n",
      "i=15, j=17\n",
      "i=15, j=18\n",
      "i=15, j=19\n",
      "i=15, j=20\n",
      "i=15, j=21\n",
      "i=15, j=22\n",
      "i=15, j=23\n",
      "i=15, j=24\n",
      "i=15, j=25\n",
      "i=15, j=26\n",
      "i=15, j=27\n",
      "i=15, j=28\n",
      "i=15, j=29\n",
      "i=16, j=0\n",
      "i=16, j=1\n",
      "i=16, j=2\n",
      "i=16, j=3\n",
      "i=16, j=4\n",
      "i=16, j=5\n",
      "i=16, j=6\n",
      "i=16, j=7\n",
      "i=16, j=8\n",
      "i=16, j=9\n",
      "i=16, j=10\n",
      "i=16, j=11\n",
      "i=16, j=12\n",
      "i=16, j=13\n",
      "i=16, j=14\n",
      "i=16, j=15\n",
      "i=16, j=16\n",
      "i=16, j=17\n",
      "i=16, j=18\n",
      "i=16, j=19\n",
      "i=16, j=20\n",
      "i=16, j=21\n",
      "i=16, j=22\n",
      "i=16, j=23\n",
      "i=16, j=24\n",
      "i=16, j=25\n",
      "i=16, j=26\n",
      "i=16, j=27\n",
      "i=16, j=28\n",
      "i=16, j=29\n",
      "i=17, j=0\n",
      "i=17, j=1\n",
      "i=17, j=2\n",
      "i=17, j=3\n",
      "i=17, j=4\n",
      "i=17, j=5\n",
      "i=17, j=6\n",
      "i=17, j=7\n",
      "i=17, j=8\n",
      "i=17, j=9\n",
      "i=17, j=10\n",
      "i=17, j=11\n",
      "i=17, j=12\n",
      "i=17, j=13\n",
      "i=17, j=14\n",
      "i=17, j=15\n",
      "i=17, j=16\n",
      "i=17, j=17\n",
      "i=17, j=18\n",
      "i=17, j=19\n",
      "i=17, j=20\n",
      "i=17, j=21\n",
      "i=17, j=22\n",
      "i=17, j=23\n",
      "i=17, j=24\n",
      "i=17, j=25\n",
      "i=17, j=26\n",
      "i=17, j=27\n",
      "i=17, j=28\n",
      "i=17, j=29\n",
      "i=18, j=0\n",
      "i=18, j=1\n",
      "i=18, j=2\n",
      "i=18, j=3\n",
      "i=18, j=4\n",
      "i=18, j=5\n",
      "i=18, j=6\n",
      "i=18, j=7\n",
      "i=18, j=8\n",
      "i=18, j=9\n",
      "i=18, j=10\n",
      "i=18, j=11\n",
      "i=18, j=12\n",
      "i=18, j=13\n",
      "i=18, j=14\n",
      "i=18, j=15\n",
      "i=18, j=16\n",
      "i=18, j=17\n",
      "i=18, j=18\n",
      "i=18, j=19\n",
      "i=18, j=20\n",
      "i=18, j=21\n",
      "i=18, j=22\n",
      "i=18, j=23\n",
      "i=18, j=24\n",
      "i=18, j=25\n",
      "i=18, j=26\n",
      "i=18, j=27\n",
      "i=18, j=28\n",
      "i=18, j=29\n",
      "i=19, j=0\n",
      "i=19, j=1\n",
      "i=19, j=2\n",
      "i=19, j=3\n",
      "i=19, j=4\n",
      "i=19, j=5\n",
      "i=19, j=6\n",
      "i=19, j=7\n",
      "i=19, j=8\n",
      "i=19, j=9\n",
      "i=19, j=10\n",
      "i=19, j=11\n",
      "i=19, j=12\n",
      "i=19, j=13\n",
      "i=19, j=14\n",
      "i=19, j=15\n",
      "i=19, j=16\n",
      "i=19, j=17\n",
      "i=19, j=18\n",
      "i=19, j=19\n",
      "i=19, j=20\n",
      "i=19, j=21\n",
      "i=19, j=22\n",
      "i=19, j=23\n",
      "i=19, j=24\n",
      "i=19, j=25\n",
      "i=19, j=26\n",
      "i=19, j=27\n",
      "i=19, j=28\n",
      "i=19, j=29\n",
      "i=20, j=0\n",
      "i=20, j=1\n",
      "i=20, j=2\n",
      "i=20, j=3\n",
      "i=20, j=4\n",
      "i=20, j=5\n",
      "i=20, j=6\n",
      "i=20, j=7\n",
      "i=20, j=8\n",
      "i=20, j=9\n",
      "i=20, j=10\n",
      "i=20, j=11\n",
      "i=20, j=12\n",
      "i=20, j=13\n",
      "i=20, j=14\n",
      "i=20, j=15\n",
      "i=20, j=16\n",
      "i=20, j=17\n",
      "i=20, j=18\n",
      "i=20, j=19\n",
      "i=20, j=20\n",
      "i=20, j=21\n",
      "i=20, j=22\n",
      "i=20, j=23\n",
      "i=20, j=24\n",
      "i=20, j=25\n",
      "i=20, j=26\n",
      "i=20, j=27\n",
      "i=20, j=28\n",
      "i=20, j=29\n",
      "i=21, j=0\n",
      "i=21, j=1\n",
      "i=21, j=2\n",
      "i=21, j=3\n",
      "i=21, j=4\n",
      "i=21, j=5\n",
      "i=21, j=6\n",
      "i=21, j=7\n",
      "i=21, j=8\n",
      "i=21, j=9\n",
      "i=21, j=10\n",
      "i=21, j=11\n",
      "i=21, j=12\n",
      "i=21, j=13\n",
      "i=21, j=14\n",
      "i=21, j=15\n",
      "i=21, j=16\n",
      "i=21, j=17\n",
      "i=21, j=18\n",
      "i=21, j=19\n",
      "i=21, j=20\n",
      "i=21, j=21\n",
      "i=21, j=22\n",
      "i=21, j=23\n",
      "i=21, j=24\n",
      "i=21, j=25\n",
      "i=21, j=26\n",
      "i=21, j=27\n",
      "i=21, j=28\n",
      "i=21, j=29\n",
      "i=22, j=0\n",
      "i=22, j=1\n",
      "i=22, j=2\n",
      "i=22, j=3\n",
      "i=22, j=4\n",
      "i=22, j=5\n",
      "i=22, j=6\n",
      "i=22, j=7\n",
      "i=22, j=8\n",
      "i=22, j=9\n",
      "i=22, j=10\n",
      "i=22, j=11\n",
      "i=22, j=12\n",
      "i=22, j=13\n",
      "i=22, j=14\n",
      "i=22, j=15\n",
      "i=22, j=16\n",
      "i=22, j=17\n",
      "i=22, j=18\n",
      "i=22, j=19\n",
      "i=22, j=20\n",
      "i=22, j=21\n",
      "i=22, j=22\n",
      "i=22, j=23\n",
      "i=22, j=24\n",
      "i=22, j=25\n",
      "i=22, j=26\n",
      "i=22, j=27\n",
      "i=22, j=28\n",
      "i=22, j=29\n",
      "i=23, j=0\n",
      "i=23, j=1\n",
      "i=23, j=2\n",
      "i=23, j=3\n",
      "i=23, j=4\n",
      "i=23, j=5\n",
      "i=23, j=6\n",
      "i=23, j=7\n",
      "i=23, j=8\n",
      "i=23, j=9\n",
      "i=23, j=10\n",
      "i=23, j=11\n",
      "i=23, j=12\n",
      "i=23, j=13\n",
      "i=23, j=14\n",
      "i=23, j=15\n",
      "i=23, j=16\n",
      "i=23, j=17\n",
      "i=23, j=18\n",
      "i=23, j=19\n",
      "i=23, j=20\n",
      "i=23, j=21\n",
      "i=23, j=22\n",
      "i=23, j=23\n",
      "i=23, j=24\n",
      "i=23, j=25\n",
      "i=23, j=26\n",
      "i=23, j=27\n",
      "i=23, j=28\n",
      "i=23, j=29\n",
      "i=24, j=0\n",
      "i=24, j=1\n",
      "i=24, j=2\n",
      "i=24, j=3\n",
      "i=24, j=4\n",
      "i=24, j=5\n",
      "i=24, j=6\n",
      "i=24, j=7\n",
      "i=24, j=8\n",
      "i=24, j=9\n",
      "i=24, j=10\n",
      "i=24, j=11\n",
      "i=24, j=12\n",
      "i=24, j=13\n",
      "i=24, j=14\n",
      "i=24, j=15\n",
      "i=24, j=16\n",
      "i=24, j=17\n",
      "i=24, j=18\n",
      "i=24, j=19\n",
      "i=24, j=20\n",
      "i=24, j=21\n",
      "i=24, j=22\n",
      "i=24, j=23\n",
      "i=24, j=24\n",
      "i=24, j=25\n",
      "i=24, j=26\n",
      "i=24, j=27\n",
      "i=24, j=28\n",
      "i=24, j=29\n",
      "i=25, j=0\n",
      "i=25, j=1\n",
      "i=25, j=2\n",
      "i=25, j=3\n",
      "i=25, j=4\n",
      "i=25, j=5\n",
      "i=25, j=6\n",
      "i=25, j=7\n",
      "i=25, j=8\n",
      "i=25, j=9\n",
      "i=25, j=10\n",
      "i=25, j=11\n",
      "i=25, j=12\n",
      "i=25, j=13\n",
      "i=25, j=14\n",
      "i=25, j=15\n",
      "i=25, j=16\n",
      "i=25, j=17\n",
      "i=25, j=18\n",
      "i=25, j=19\n",
      "i=25, j=20\n",
      "i=25, j=21\n",
      "i=25, j=22\n",
      "i=25, j=23\n",
      "i=25, j=24\n",
      "i=25, j=25\n",
      "i=25, j=26\n",
      "i=25, j=27\n",
      "i=25, j=28\n",
      "i=25, j=29\n",
      "i=26, j=0\n",
      "i=26, j=1\n",
      "i=26, j=2\n",
      "i=26, j=3\n",
      "i=26, j=4\n",
      "i=26, j=5\n",
      "i=26, j=6\n",
      "i=26, j=7\n",
      "i=26, j=8\n",
      "i=26, j=9\n",
      "i=26, j=10\n",
      "i=26, j=11\n",
      "i=26, j=12\n",
      "i=26, j=13\n",
      "i=26, j=14\n",
      "i=26, j=15\n",
      "i=26, j=16\n",
      "i=26, j=17\n",
      "i=26, j=18\n",
      "i=26, j=19\n",
      "i=26, j=20\n",
      "i=26, j=21\n",
      "i=26, j=22\n",
      "i=26, j=23\n",
      "i=26, j=24\n",
      "i=26, j=25\n",
      "i=26, j=26\n",
      "i=26, j=27\n",
      "i=26, j=28\n",
      "i=26, j=29\n",
      "i=27, j=0\n",
      "i=27, j=1\n",
      "i=27, j=2\n",
      "i=27, j=3\n",
      "i=27, j=4\n",
      "i=27, j=5\n",
      "i=27, j=6\n",
      "i=27, j=7\n",
      "i=27, j=8\n",
      "i=27, j=9\n",
      "i=27, j=10\n",
      "i=27, j=11\n",
      "i=27, j=12\n",
      "i=27, j=13\n",
      "i=27, j=14\n",
      "i=27, j=15\n",
      "i=27, j=16\n",
      "i=27, j=17\n",
      "i=27, j=18\n",
      "i=27, j=19\n",
      "i=27, j=20\n",
      "i=27, j=21\n",
      "i=27, j=22\n",
      "i=27, j=23\n",
      "i=27, j=24\n",
      "i=27, j=25\n",
      "i=27, j=26\n",
      "i=27, j=27\n",
      "i=27, j=28\n",
      "i=27, j=29\n",
      "i=28, j=0\n",
      "i=28, j=1\n",
      "i=28, j=2\n",
      "i=28, j=3\n",
      "i=28, j=4\n",
      "i=28, j=5\n",
      "i=28, j=6\n",
      "i=28, j=7\n",
      "i=28, j=8\n",
      "i=28, j=9\n",
      "i=28, j=10\n",
      "i=28, j=11\n",
      "i=28, j=12\n",
      "i=28, j=13\n",
      "i=28, j=14\n",
      "i=28, j=15\n",
      "i=28, j=16\n",
      "i=28, j=17\n",
      "i=28, j=18\n",
      "i=28, j=19\n",
      "i=28, j=20\n",
      "i=28, j=21\n",
      "i=28, j=22\n",
      "i=28, j=23\n",
      "i=28, j=24\n",
      "i=28, j=25\n",
      "i=28, j=26\n",
      "i=28, j=27\n",
      "i=28, j=28\n",
      "i=28, j=29\n",
      "i=29, j=0\n",
      "i=29, j=1\n",
      "i=29, j=2\n",
      "i=29, j=3\n",
      "i=29, j=4\n",
      "i=29, j=5\n",
      "i=29, j=6\n",
      "i=29, j=7\n",
      "i=29, j=8\n",
      "i=29, j=9\n",
      "i=29, j=10\n",
      "i=29, j=11\n",
      "i=29, j=12\n",
      "i=29, j=13\n",
      "i=29, j=14\n",
      "i=29, j=15\n",
      "i=29, j=16\n",
      "i=29, j=17\n",
      "i=29, j=18\n",
      "i=29, j=19\n",
      "i=29, j=20\n",
      "i=29, j=21\n",
      "i=29, j=22\n",
      "i=29, j=23\n",
      "i=29, j=24\n",
      "i=29, j=25\n",
      "i=29, j=26\n",
      "i=29, j=27\n",
      "i=29, j=28\n",
      "i=29, j=29\n",
      "i=30, j=0\n",
      "i=30, j=1\n",
      "i=30, j=2\n",
      "i=30, j=3\n",
      "i=30, j=4\n",
      "i=30, j=5\n",
      "i=30, j=6\n",
      "i=30, j=7\n",
      "i=30, j=8\n",
      "i=30, j=9\n",
      "i=30, j=10\n",
      "i=30, j=11\n",
      "i=30, j=12\n",
      "i=30, j=13\n",
      "i=30, j=14\n",
      "i=30, j=15\n",
      "i=30, j=16\n",
      "i=30, j=17\n",
      "i=30, j=18\n",
      "i=30, j=19\n",
      "i=30, j=20\n",
      "i=30, j=21\n",
      "i=30, j=22\n",
      "i=30, j=23\n",
      "i=30, j=24\n",
      "i=30, j=25\n",
      "i=30, j=26\n",
      "i=30, j=27\n",
      "i=30, j=28\n",
      "i=30, j=29\n",
      "i=31, j=0\n",
      "i=31, j=1\n",
      "i=31, j=2\n",
      "i=31, j=3\n",
      "i=31, j=4\n",
      "i=31, j=5\n",
      "i=31, j=6\n",
      "i=31, j=7\n",
      "i=31, j=8\n",
      "i=31, j=9\n",
      "i=31, j=10\n",
      "i=31, j=11\n",
      "i=31, j=12\n",
      "i=31, j=13\n",
      "i=31, j=14\n",
      "i=31, j=15\n",
      "i=31, j=16\n",
      "i=31, j=17\n",
      "i=31, j=18\n",
      "i=31, j=19\n",
      "i=31, j=20\n",
      "i=31, j=21\n",
      "i=31, j=22\n",
      "i=31, j=23\n",
      "i=31, j=24\n",
      "i=31, j=25\n",
      "i=31, j=26\n",
      "i=31, j=27\n",
      "i=31, j=28\n",
      "i=31, j=29\n",
      "i=32, j=0\n",
      "i=32, j=1\n",
      "i=32, j=2\n",
      "i=32, j=3\n",
      "i=32, j=4\n",
      "i=32, j=5\n",
      "i=32, j=6\n",
      "i=32, j=7\n",
      "i=32, j=8\n",
      "i=32, j=9\n",
      "i=32, j=10\n",
      "i=32, j=11\n",
      "i=32, j=12\n",
      "i=32, j=13\n",
      "i=32, j=14\n",
      "i=32, j=15\n",
      "i=32, j=16\n",
      "i=32, j=17\n",
      "i=32, j=18\n",
      "i=32, j=19\n",
      "i=32, j=20\n",
      "i=32, j=21\n",
      "i=32, j=22\n",
      "i=32, j=23\n",
      "i=32, j=24\n",
      "i=32, j=25\n",
      "i=32, j=26\n",
      "i=32, j=27\n",
      "i=32, j=28\n",
      "i=32, j=29\n",
      "i=33, j=0\n",
      "i=33, j=1\n",
      "i=33, j=2\n",
      "i=33, j=3\n",
      "i=33, j=4\n",
      "i=33, j=5\n",
      "i=33, j=6\n",
      "i=33, j=7\n",
      "i=33, j=8\n",
      "i=33, j=9\n",
      "i=33, j=10\n",
      "i=33, j=11\n",
      "i=33, j=12\n",
      "i=33, j=13\n",
      "i=33, j=14\n",
      "i=33, j=15\n",
      "i=33, j=16\n",
      "i=33, j=17\n",
      "i=33, j=18\n",
      "i=33, j=19\n",
      "i=33, j=20\n",
      "i=33, j=21\n",
      "i=33, j=22\n",
      "i=33, j=23\n",
      "i=33, j=24\n",
      "i=33, j=25\n",
      "i=33, j=26\n",
      "i=33, j=27\n",
      "i=33, j=28\n",
      "i=33, j=29\n",
      "i=34, j=0\n",
      "i=34, j=1\n",
      "i=34, j=2\n",
      "i=34, j=3\n",
      "i=34, j=4\n",
      "i=34, j=5\n",
      "i=34, j=6\n",
      "i=34, j=7\n",
      "i=34, j=8\n",
      "i=34, j=9\n",
      "i=34, j=10\n",
      "i=34, j=11\n",
      "i=34, j=12\n",
      "i=34, j=13\n",
      "i=34, j=14\n",
      "i=34, j=15\n",
      "i=34, j=16\n",
      "i=34, j=17\n",
      "i=34, j=18\n",
      "i=34, j=19\n",
      "i=34, j=20\n",
      "i=34, j=21\n",
      "i=34, j=22\n",
      "i=34, j=23\n",
      "i=34, j=24\n",
      "i=34, j=25\n",
      "i=34, j=26\n",
      "i=34, j=27\n",
      "i=34, j=28\n",
      "i=34, j=29\n",
      "i=35, j=0\n",
      "i=35, j=1\n",
      "i=35, j=2\n",
      "i=35, j=3\n",
      "i=35, j=4\n",
      "i=35, j=5\n",
      "i=35, j=6\n",
      "i=35, j=7\n",
      "i=35, j=8\n",
      "i=35, j=9\n",
      "i=35, j=10\n",
      "i=35, j=11\n",
      "i=35, j=12\n",
      "i=35, j=13\n",
      "i=35, j=14\n",
      "i=35, j=15\n",
      "i=35, j=16\n",
      "i=35, j=17\n",
      "i=35, j=18\n",
      "i=35, j=19\n",
      "i=35, j=20\n",
      "i=35, j=21\n",
      "i=35, j=22\n",
      "i=35, j=23\n",
      "i=35, j=24\n",
      "i=35, j=25\n",
      "i=35, j=26\n",
      "i=35, j=27\n",
      "i=35, j=28\n",
      "i=35, j=29\n",
      "i=36, j=0\n",
      "i=36, j=1\n",
      "i=36, j=2\n",
      "i=36, j=3\n",
      "i=36, j=4\n",
      "i=36, j=5\n",
      "i=36, j=6\n",
      "i=36, j=7\n",
      "i=36, j=8\n",
      "i=36, j=9\n",
      "i=36, j=10\n",
      "i=36, j=11\n",
      "i=36, j=12\n",
      "i=36, j=13\n",
      "i=36, j=14\n",
      "i=36, j=15\n",
      "i=36, j=16\n",
      "i=36, j=17\n",
      "i=36, j=18\n",
      "i=36, j=19\n",
      "i=36, j=20\n",
      "i=36, j=21\n",
      "i=36, j=22\n",
      "i=36, j=23\n",
      "i=36, j=24\n",
      "i=36, j=25\n",
      "i=36, j=26\n",
      "i=36, j=27\n",
      "i=36, j=28\n",
      "i=36, j=29\n",
      "i=37, j=0\n",
      "i=37, j=1\n",
      "i=37, j=2\n",
      "i=37, j=3\n",
      "i=37, j=4\n",
      "i=37, j=5\n",
      "i=37, j=6\n",
      "i=37, j=7\n",
      "i=37, j=8\n",
      "i=37, j=9\n",
      "i=37, j=10\n",
      "i=37, j=11\n",
      "i=37, j=12\n",
      "i=37, j=13\n",
      "i=37, j=14\n",
      "i=37, j=15\n",
      "i=37, j=16\n",
      "i=37, j=17\n",
      "i=37, j=18\n",
      "i=37, j=19\n",
      "i=37, j=20\n",
      "i=37, j=21\n",
      "i=37, j=22\n",
      "i=37, j=23\n",
      "i=37, j=24\n",
      "i=37, j=25\n",
      "i=37, j=26\n",
      "i=37, j=27\n",
      "i=37, j=28\n",
      "i=37, j=29\n",
      "i=38, j=0\n",
      "i=38, j=1\n",
      "i=38, j=2\n",
      "i=38, j=3\n",
      "i=38, j=4\n",
      "i=38, j=5\n",
      "i=38, j=6\n",
      "i=38, j=7\n",
      "i=38, j=8\n",
      "i=38, j=9\n",
      "i=38, j=10\n",
      "i=38, j=11\n",
      "i=38, j=12\n",
      "i=38, j=13\n",
      "i=38, j=14\n",
      "i=38, j=15\n",
      "i=38, j=16\n",
      "i=38, j=17\n",
      "i=38, j=18\n",
      "i=38, j=19\n",
      "i=38, j=20\n",
      "i=38, j=21\n",
      "i=38, j=22\n",
      "i=38, j=23\n",
      "i=38, j=24\n",
      "i=38, j=25\n",
      "i=38, j=26\n",
      "i=38, j=27\n",
      "i=38, j=28\n",
      "i=38, j=29\n",
      "i=39, j=0\n",
      "i=39, j=1\n",
      "i=39, j=2\n",
      "i=39, j=3\n",
      "i=39, j=4\n",
      "i=39, j=5\n",
      "i=39, j=6\n",
      "i=39, j=7\n",
      "i=39, j=8\n",
      "i=39, j=9\n",
      "i=39, j=10\n",
      "i=39, j=11\n",
      "i=39, j=12\n",
      "i=39, j=13\n",
      "i=39, j=14\n",
      "i=39, j=15\n",
      "i=39, j=16\n",
      "i=39, j=17\n",
      "i=39, j=18\n",
      "i=39, j=19\n",
      "i=39, j=20\n",
      "i=39, j=21\n",
      "i=39, j=22\n",
      "i=39, j=23\n",
      "i=39, j=24\n",
      "i=39, j=25\n",
      "i=39, j=26\n",
      "i=39, j=27\n",
      "i=39, j=28\n",
      "i=39, j=29\n",
      "i=40, j=0\n",
      "i=40, j=1\n",
      "i=40, j=2\n",
      "i=40, j=3\n",
      "i=40, j=4\n",
      "i=40, j=5\n",
      "i=40, j=6\n",
      "i=40, j=7\n",
      "i=40, j=8\n",
      "i=40, j=9\n",
      "i=40, j=10\n",
      "i=40, j=11\n",
      "i=40, j=12\n",
      "i=40, j=13\n",
      "i=40, j=14\n",
      "i=40, j=15\n",
      "i=40, j=16\n",
      "i=40, j=17\n",
      "i=40, j=18\n",
      "i=40, j=19\n",
      "i=40, j=20\n",
      "i=40, j=21\n",
      "i=40, j=22\n",
      "i=40, j=23\n",
      "i=40, j=24\n",
      "i=40, j=25\n",
      "i=40, j=26\n",
      "i=40, j=27\n",
      "i=40, j=28\n",
      "i=40, j=29\n",
      "i=41, j=0\n",
      "i=41, j=1\n",
      "i=41, j=2\n",
      "i=41, j=3\n",
      "i=41, j=4\n",
      "i=41, j=5\n",
      "i=41, j=6\n",
      "i=41, j=7\n",
      "i=41, j=8\n",
      "i=41, j=9\n",
      "i=41, j=10\n",
      "i=41, j=11\n",
      "i=41, j=12\n",
      "i=41, j=13\n",
      "i=41, j=14\n",
      "i=41, j=15\n",
      "i=41, j=16\n",
      "i=41, j=17\n",
      "i=41, j=18\n",
      "i=41, j=19\n",
      "i=41, j=20\n",
      "i=41, j=21\n",
      "i=41, j=22\n",
      "i=41, j=23\n",
      "i=41, j=24\n",
      "i=41, j=25\n",
      "i=41, j=26\n",
      "i=41, j=27\n",
      "i=41, j=28\n",
      "i=41, j=29\n",
      "i=42, j=0\n",
      "i=42, j=1\n",
      "i=42, j=2\n",
      "i=42, j=3\n",
      "i=42, j=4\n",
      "i=42, j=5\n",
      "i=42, j=6\n",
      "i=42, j=7\n",
      "i=42, j=8\n",
      "i=42, j=9\n",
      "i=42, j=10\n",
      "i=42, j=11\n",
      "i=42, j=12\n",
      "i=42, j=13\n",
      "i=42, j=14\n",
      "i=42, j=15\n",
      "i=42, j=16\n",
      "i=42, j=17\n",
      "i=42, j=18\n",
      "i=42, j=19\n",
      "i=42, j=20\n",
      "i=42, j=21\n",
      "i=42, j=22\n",
      "i=42, j=23\n",
      "i=42, j=24\n",
      "i=42, j=25\n",
      "i=42, j=26\n",
      "i=42, j=27\n",
      "i=42, j=28\n",
      "i=42, j=29\n",
      "i=43, j=0\n",
      "i=43, j=1\n",
      "i=43, j=2\n",
      "i=43, j=3\n",
      "i=43, j=4\n",
      "i=43, j=5\n",
      "i=43, j=6\n",
      "i=43, j=7\n",
      "i=43, j=8\n",
      "i=43, j=9\n",
      "i=43, j=10\n",
      "i=43, j=11\n",
      "i=43, j=12\n",
      "i=43, j=13\n",
      "i=43, j=14\n",
      "i=43, j=15\n",
      "i=43, j=16\n",
      "i=43, j=17\n",
      "i=43, j=18\n",
      "i=43, j=19\n",
      "i=43, j=20\n",
      "i=43, j=21\n",
      "i=43, j=22\n",
      "i=43, j=23\n",
      "i=43, j=24\n",
      "i=43, j=25\n",
      "i=43, j=26\n",
      "i=43, j=27\n",
      "i=43, j=28\n",
      "i=43, j=29\n",
      "i=44, j=0\n",
      "i=44, j=1\n",
      "i=44, j=2\n",
      "i=44, j=3\n",
      "i=44, j=4\n",
      "i=44, j=5\n",
      "i=44, j=6\n",
      "i=44, j=7\n",
      "i=44, j=8\n",
      "i=44, j=9\n",
      "i=44, j=10\n",
      "i=44, j=11\n",
      "i=44, j=12\n",
      "i=44, j=13\n",
      "i=44, j=14\n",
      "i=44, j=15\n",
      "i=44, j=16\n",
      "i=44, j=17\n",
      "i=44, j=18\n",
      "i=44, j=19\n",
      "i=44, j=20\n",
      "i=44, j=21\n",
      "i=44, j=22\n",
      "i=44, j=23\n",
      "i=44, j=24\n",
      "i=44, j=25\n",
      "i=44, j=26\n",
      "i=44, j=27\n",
      "i=44, j=28\n",
      "i=44, j=29\n",
      "i=45, j=0\n",
      "i=45, j=1\n",
      "i=45, j=2\n",
      "i=45, j=3\n",
      "i=45, j=4\n",
      "i=45, j=5\n",
      "i=45, j=6\n",
      "i=45, j=7\n",
      "i=45, j=8\n",
      "i=45, j=9\n",
      "i=45, j=10\n",
      "i=45, j=11\n",
      "i=45, j=12\n",
      "i=45, j=13\n",
      "i=45, j=14\n",
      "i=45, j=15\n",
      "i=45, j=16\n",
      "i=45, j=17\n",
      "i=45, j=18\n",
      "i=45, j=19\n",
      "i=45, j=20\n",
      "i=45, j=21\n",
      "i=45, j=22\n",
      "i=45, j=23\n",
      "i=45, j=24\n",
      "i=45, j=25\n",
      "i=45, j=26\n",
      "i=45, j=27\n",
      "i=45, j=28\n",
      "i=45, j=29\n",
      "i=46, j=0\n",
      "i=46, j=1\n",
      "i=46, j=2\n",
      "i=46, j=3\n",
      "i=46, j=4\n",
      "i=46, j=5\n",
      "i=46, j=6\n",
      "i=46, j=7\n",
      "i=46, j=8\n",
      "i=46, j=9\n",
      "i=46, j=10\n",
      "i=46, j=11\n",
      "i=46, j=12\n",
      "i=46, j=13\n",
      "i=46, j=14\n",
      "i=46, j=15\n",
      "i=46, j=16\n",
      "i=46, j=17\n",
      "i=46, j=18\n",
      "i=46, j=19\n",
      "i=46, j=20\n",
      "i=46, j=21\n",
      "i=46, j=22\n",
      "i=46, j=23\n",
      "i=46, j=24\n",
      "i=46, j=25\n",
      "i=46, j=26\n",
      "i=46, j=27\n",
      "i=46, j=28\n",
      "i=46, j=29\n",
      "i=47, j=0\n",
      "i=47, j=1\n",
      "i=47, j=2\n",
      "i=47, j=3\n",
      "i=47, j=4\n",
      "i=47, j=5\n",
      "i=47, j=6\n",
      "i=47, j=7\n",
      "i=47, j=8\n",
      "i=47, j=9\n",
      "i=47, j=10\n",
      "i=47, j=11\n",
      "i=47, j=12\n",
      "i=47, j=13\n",
      "i=47, j=14\n",
      "i=47, j=15\n",
      "i=47, j=16\n",
      "i=47, j=17\n",
      "i=47, j=18\n",
      "i=47, j=19\n",
      "i=47, j=20\n",
      "i=47, j=21\n",
      "i=47, j=22\n",
      "i=47, j=23\n",
      "i=47, j=24\n",
      "i=47, j=25\n",
      "i=47, j=26\n",
      "i=47, j=27\n",
      "i=47, j=28\n",
      "i=47, j=29\n",
      "i=48, j=0\n",
      "i=48, j=1\n",
      "i=48, j=2\n",
      "i=48, j=3\n",
      "i=48, j=4\n",
      "i=48, j=5\n",
      "i=48, j=6\n",
      "i=48, j=7\n",
      "i=48, j=8\n",
      "i=48, j=9\n",
      "i=48, j=10\n",
      "i=48, j=11\n",
      "i=48, j=12\n",
      "i=48, j=13\n",
      "i=48, j=14\n",
      "i=48, j=15\n",
      "i=48, j=16\n",
      "i=48, j=17\n",
      "i=48, j=18\n",
      "i=48, j=19\n",
      "i=48, j=20\n",
      "i=48, j=21\n",
      "i=48, j=22\n",
      "i=48, j=23\n",
      "i=48, j=24\n",
      "i=48, j=25\n",
      "i=48, j=26\n",
      "i=48, j=27\n",
      "i=48, j=28\n",
      "i=48, j=29\n",
      "i=49, j=0\n",
      "i=49, j=1\n",
      "i=49, j=2\n",
      "i=49, j=3\n",
      "i=49, j=4\n",
      "i=49, j=5\n",
      "i=49, j=6\n",
      "i=49, j=7\n",
      "i=49, j=8\n",
      "i=49, j=9\n",
      "i=49, j=10\n",
      "i=49, j=11\n",
      "i=49, j=12\n",
      "i=49, j=13\n",
      "i=49, j=14\n",
      "i=49, j=15\n",
      "i=49, j=16\n",
      "i=49, j=17\n",
      "i=49, j=18\n",
      "i=49, j=19\n",
      "i=49, j=20\n",
      "i=49, j=21\n",
      "i=49, j=22\n",
      "i=49, j=23\n",
      "i=49, j=24\n",
      "i=49, j=25\n",
      "i=49, j=26\n",
      "i=49, j=27\n",
      "i=49, j=28\n",
      "i=49, j=29\n"
     ]
    }
   ],
   "source": [
    "for i in range(50):\n",
    "    for j in range(30):\n",
    "        print(f'i={i}, j={j}')\n",
    "        "
   ]
  },
  {
   "cell_type": "markdown",
   "metadata": {},
   "source": [
    "### While Loops"
   ]
  },
  {
   "cell_type": "code",
   "execution_count": 91,
   "metadata": {},
   "outputs": [
    {
     "name": "stdout",
     "output_type": "stream",
     "text": [
      "0\n",
      "1\n",
      "2\n",
      "3\n",
      "4\n",
      "5\n",
      "6\n",
      "7\n",
      "8\n",
      "9\n"
     ]
    }
   ],
   "source": [
    "num = 0 \n",
    "while num < 10:\n",
    "    print(num)\n",
    "    num += 1"
   ]
  },
  {
   "cell_type": "code",
   "execution_count": 93,
   "metadata": {},
   "outputs": [
    {
     "name": "stdout",
     "output_type": "stream",
     "text": [
      "what do you want to do? quit or continue?quit\n",
      "ill still run after quit\n"
     ]
    }
   ],
   "source": [
    "game_over = False\n",
    "while not game_over:\n",
    "    user_input = input(\"what do you want to do? quit or continue?\")\n",
    "    if user_input.lower() == \"quit\":\n",
    "        game_over = True\n",
    "    else:\n",
    "        continue\n",
    "    print(\"ill still run after quit\")\n",
    "        "
   ]
  },
  {
   "cell_type": "markdown",
   "metadata": {},
   "source": [
    "##### Looping 'While True'"
   ]
  },
  {
   "cell_type": "code",
   "execution_count": 94,
   "metadata": {},
   "outputs": [
    {
     "name": "stdout",
     "output_type": "stream",
     "text": [
      "what do you want to do? quit or continue?quit\n"
     ]
    }
   ],
   "source": [
    "while True:\n",
    "    user_input = input(\"what do you want to do? quit or continue?\")\n",
    "    if user_input.lower() == \"quit\":\n",
    "        break\n",
    "    print(\"Will i print\")\n",
    "    "
   ]
  },
  {
   "cell_type": "markdown",
   "metadata": {},
   "source": [
    "##### While & For Loops Used Together"
   ]
  },
  {
   "cell_type": "code",
   "execution_count": 136,
   "metadata": {},
   "outputs": [
    {
     "name": "stdout",
     "output_type": "stream",
     "text": [
      "hello\n"
     ]
    }
   ],
   "source": [
    "print(\"hello\")"
   ]
  },
  {
   "cell_type": "markdown",
   "metadata": {},
   "source": [
    "### Built-In Functions"
   ]
  },
  {
   "cell_type": "markdown",
   "metadata": {},
   "source": [
    "##### range()"
   ]
  },
  {
   "cell_type": "code",
   "execution_count": 97,
   "metadata": {},
   "outputs": [
    {
     "data": {
      "text/plain": [
       "[0, 1, 2, 3, 4]"
      ]
     },
     "execution_count": 97,
     "metadata": {},
     "output_type": "execute_result"
    }
   ],
   "source": [
    "#start, stop, step\n",
    "\n",
    "list(range(5))"
   ]
  },
  {
   "cell_type": "code",
   "execution_count": 98,
   "metadata": {},
   "outputs": [
    {
     "data": {
      "text/plain": [
       "[5, 6, 7, 8, 9]"
      ]
     },
     "execution_count": 98,
     "metadata": {},
     "output_type": "execute_result"
    }
   ],
   "source": [
    "list(range(5, 10))"
   ]
  },
  {
   "cell_type": "code",
   "execution_count": 99,
   "metadata": {},
   "outputs": [
    {
     "data": {
      "text/plain": [
       "[5, 7, 9]"
      ]
     },
     "execution_count": 99,
     "metadata": {},
     "output_type": "execute_result"
    }
   ],
   "source": [
    "list(range(5, 10, 2))"
   ]
  },
  {
   "cell_type": "code",
   "execution_count": 100,
   "metadata": {},
   "outputs": [
    {
     "data": {
      "text/plain": [
       "[]"
      ]
     },
     "execution_count": 100,
     "metadata": {},
     "output_type": "execute_result"
    }
   ],
   "source": [
    "list(range(5, 10, -1))"
   ]
  },
  {
   "cell_type": "markdown",
   "metadata": {},
   "source": [
    "##### len()"
   ]
  },
  {
   "cell_type": "code",
   "execution_count": 7,
   "metadata": {},
   "outputs": [],
   "source": [
    "len(\"hello\")"
   ]
  },
  {
   "cell_type": "markdown",
   "metadata": {},
   "source": [
    "##### help()"
   ]
  },
  {
   "cell_type": "code",
   "execution_count": 101,
   "metadata": {},
   "outputs": [
    {
     "name": "stdout",
     "output_type": "stream",
     "text": [
      "Help on built-in function len in module builtins:\n",
      "\n",
      "len(obj, /)\n",
      "    Return the number of items in a container.\n",
      "\n"
     ]
    }
   ],
   "source": [
    " help(len)\n",
    "    \n"
   ]
  },
  {
   "cell_type": "markdown",
   "metadata": {},
   "source": [
    "##### isinstance()"
   ]
  },
  {
   "cell_type": "code",
   "execution_count": 9,
   "metadata": {},
   "outputs": [],
   "source": [
    "# returns a bool\n",
    "\n",
    "num = 3 \n",
    "print"
   ]
  },
  {
   "cell_type": "markdown",
   "metadata": {},
   "source": [
    "##### abs()"
   ]
  },
  {
   "cell_type": "code",
   "execution_count": 102,
   "metadata": {},
   "outputs": [
    {
     "name": "stdout",
     "output_type": "stream",
     "text": [
      "5\n"
     ]
    }
   ],
   "source": [
    "# | -5 | = 5 .. which measures the dist from Zero\n",
    "\n",
    "print(abs(-5))\n"
   ]
  },
  {
   "cell_type": "markdown",
   "metadata": {},
   "source": [
    "### Try and Except"
   ]
  },
  {
   "cell_type": "code",
   "execution_count": 106,
   "metadata": {
    "scrolled": true
   },
   "outputs": [
    {
     "name": "stdout",
     "output_type": "stream",
     "text": [
      "thats no number\n"
     ]
    }
   ],
   "source": [
    "try:\n",
    "    numder_test = 0\n",
    "    input_num = int(input(\"huess a number: \"))\n",
    "    if input_num != number_test:\n",
    "        input_num = input_num + nunmber_test\n",
    "        print(f'Your number is: {input_num}')\n",
    "except:\n",
    "    print(\"thats no number\")\n",
    "    \n",
    "def divide(num1, num2):\n",
    "    try:\n",
    "        print(num1/num2)\n",
    "    except ZeroDivisionError:\n",
    "        print(0)\n",
    "    except TypeError:\n",
    "        print(\"sorry not a number\")\n"
   ]
  },
  {
   "cell_type": "markdown",
   "metadata": {},
   "source": [
    "### Lists"
   ]
  },
  {
   "cell_type": "markdown",
   "metadata": {},
   "source": [
    "##### Declaring Lists"
   ]
  },
  {
   "cell_type": "code",
   "execution_count": null,
   "metadata": {},
   "outputs": [],
   "source": [
    "names = [\"max\", \"cindy\", \"sam\", \"dirrik\"]\n",
    "print(names)"
   ]
  },
  {
   "cell_type": "code",
   "execution_count": null,
   "metadata": {},
   "outputs": [],
   "source": []
  },
  {
   "cell_type": "markdown",
   "metadata": {},
   "source": [
    "##### Indexing a List"
   ]
  },
  {
   "cell_type": "code",
   "execution_count": 110,
   "metadata": {},
   "outputs": [
    {
     "name": "stdout",
     "output_type": "stream",
     "text": [
      "0 1 2 3\n"
     ]
    }
   ],
   "source": [
    "print(0, 1, 2, 3)"
   ]
  },
  {
   "cell_type": "markdown",
   "metadata": {},
   "source": [
    "##### .append()"
   ]
  },
  {
   "cell_type": "code",
   "execution_count": 126,
   "metadata": {},
   "outputs": [
    {
     "name": "stdout",
     "output_type": "stream",
     "text": [
      "['max', 'cindy', 'sam', 'dirrik', 'austin']\n"
     ]
    }
   ],
   "source": [
    "names = [\"max\", \"cindy\", \"sam\", \"dirrik\"]\n",
    "names.append(\"austin\")\n",
    "print(names)\n"
   ]
  },
  {
   "cell_type": "markdown",
   "metadata": {},
   "source": [
    "##### .insert()"
   ]
  },
  {
   "cell_type": "code",
   "execution_count": 128,
   "metadata": {},
   "outputs": [
    {
     "name": "stdout",
     "output_type": "stream",
     "text": [
      "['max', 'Anu', 'cindy', 'sam', 'dirrik', 'austin']\n"
     ]
    }
   ],
   "source": [
    "names.insert(1,\"Anu\")\n",
    "print(names)\n",
    "names[2]= \"nats\"\n",
    "print(names)\n",
    "\n"
   ]
  },
  {
   "cell_type": "markdown",
   "metadata": {},
   "source": [
    "##### .pop()"
   ]
  },
  {
   "cell_type": "code",
   "execution_count": 129,
   "metadata": {},
   "outputs": [
    {
     "name": "stdout",
     "output_type": "stream",
     "text": [
      "austin\n",
      "['max', 'Anu', 'cindy', 'sam', 'dirrik']\n"
     ]
    }
   ],
   "source": [
    "print(names.pop())\n",
    "print(names)\n"
   ]
  },
  {
   "cell_type": "markdown",
   "metadata": {},
   "source": [
    "\n",
    "##### .remove()"
   ]
  },
  {
   "cell_type": "code",
   "execution_count": 16,
   "metadata": {},
   "outputs": [],
   "source": [
    "\n"
   ]
  },
  {
   "cell_type": "markdown",
   "metadata": {},
   "source": [
    "##### del()"
   ]
  },
  {
   "cell_type": "code",
   "execution_count": 17,
   "metadata": {},
   "outputs": [],
   "source": []
  },
  {
   "cell_type": "markdown",
   "metadata": {},
   "source": [
    "##### Concatenating Two Lists"
   ]
  },
  {
   "cell_type": "code",
   "execution_count": 131,
   "metadata": {},
   "outputs": [
    {
     "name": "stdout",
     "output_type": "stream",
     "text": [
      "[0, 1, 2, 3, 4, 5]\n"
     ]
    }
   ],
   "source": [
    "l_2 =[0,1,2]\n",
    "l_3 =[3,4,5]\n",
    "\n",
    "large_list= l_2 + l_3\n",
    "print(large_list)"
   ]
  },
  {
   "cell_type": "markdown",
   "metadata": {},
   "source": [
    "##### Lists Within Lists"
   ]
  },
  {
   "cell_type": "code",
   "execution_count": 19,
   "metadata": {},
   "outputs": [],
   "source": []
  },
  {
   "cell_type": "markdown",
   "metadata": {},
   "source": [
    "##### Looping Through Lists"
   ]
  },
  {
   "cell_type": "code",
   "execution_count": 20,
   "metadata": {},
   "outputs": [],
   "source": [
    "\n"
   ]
  },
  {
   "cell_type": "markdown",
   "metadata": {},
   "source": [
    "## Exercise #1 <br>\n",
    "<p>Cube Number Test... Print out all cubed numbers up to the total value 1000, so if the cubed number is over 1000 break the loop.</p>"
   ]
  },
  {
   "cell_type": "code",
   "execution_count": 144,
   "metadata": {
    "scrolled": false
   },
   "outputs": [
    {
     "name": "stdout",
     "output_type": "stream",
     "text": [
      "[1, 8, 27, 64, 125, 216, 343, 512, 729, 1000]\n"
     ]
    }
   ],
   "source": [
    "cubes = []\n",
    "for value in range(1,1001):\n",
    "    cube = value**3\n",
    "    cubes.append(cube)\n",
    "    if cube >= 1000:\n",
    "        break\n",
    "print(cubes)"
   ]
  },
  {
   "cell_type": "markdown",
   "metadata": {},
   "source": [
    "## Exercise #2 <br>\n",
    "<p>Get first prime numbers up to 100</p>"
   ]
  },
  {
   "cell_type": "code",
   "execution_count": 194,
   "metadata": {},
   "outputs": [
    {
     "name": "stdout",
     "output_type": "stream",
     "text": [
      "[2, 3, 5, 7, 9, 11, 13, 15, 17, 19, 21, 23, 25, 27, 29, 31, 33, 35, 37, 39, 41, 43, 45, 47, 49, 51, 53, 55, 57, 59, 61, 63, 65, 67, 69, 71, 73, 75, 77, 79, 81, 83, 85, 87, 89, 91, 93, 95, 97, 99]\n"
     ]
    }
   ],
   "source": [
    "primes= [2]\n",
    "\n",
    "for a in range(1,100):\n",
    "    for b in range(2, a):\n",
    "        if (a % b== 0):\n",
    "            break\n",
    "        else:\n",
    "            primes.append(a)\n",
    "            break \n",
    "print(primes)\n",
    "            "
   ]
  },
  {
   "cell_type": "markdown",
   "metadata": {},
   "source": [
    "# Exercise 3 <br>\n",
    "<p>Take in a users input for their age, if they are younger than 18 print kids, if they're 18 to 65 print adults, else print seniors</p>"
   ]
  },
  {
   "cell_type": "code",
   "execution_count": 142,
   "metadata": {},
   "outputs": [
    {
     "name": "stdout",
     "output_type": "stream",
     "text": [
      "How old is you Dawg? 66\n",
      "How are you alive still? \n"
     ]
    }
   ],
   "source": [
    "age = input(\"How old is you Dawg? \")\n",
    "\n",
    "if int(age) < 18:\n",
    "    print(\"Get older homie! \")\n",
    "elif int(age) <= 65:\n",
    "    print(\"Come on in! \")\n",
    "else:\n",
    "    print(\"How are you alive still? \")"
   ]
  }
 ],
 "metadata": {
  "kernelspec": {
   "display_name": "Python 3",
   "language": "python",
   "name": "python3"
  },
  "language_info": {
   "codemirror_mode": {
    "name": "ipython",
    "version": 3
   },
   "file_extension": ".py",
   "mimetype": "text/x-python",
   "name": "python",
   "nbconvert_exporter": "python",
   "pygments_lexer": "ipython3",
   "version": "3.8.8"
  }
 },
 "nbformat": 4,
 "nbformat_minor": 2
}
